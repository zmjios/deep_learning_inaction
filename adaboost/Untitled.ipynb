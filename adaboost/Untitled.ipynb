{
 "cells": [
  {
   "cell_type": "code",
   "execution_count": 1,
   "metadata": {
    "collapsed": true
   },
   "outputs": [],
   "source": [
    "import adaboost"
   ]
  },
  {
   "cell_type": "code",
   "execution_count": 2,
   "metadata": {
    "collapsed": true
   },
   "outputs": [],
   "source": [
    "dataMat,classLabels = adaboost.loadSimpData()"
   ]
  },
  {
   "cell_type": "code",
   "execution_count": 3,
   "metadata": {},
   "outputs": [
    {
     "data": {
      "text/plain": [
       "matrix([[ 1. ,  2.1],\n",
       "        [ 2. ,  1.1],\n",
       "        [ 1.3,  1. ],\n",
       "        [ 1. ,  1. ],\n",
       "        [ 2. ,  1. ]])"
      ]
     },
     "execution_count": 3,
     "metadata": {},
     "output_type": "execute_result"
    }
   ],
   "source": [
    "dataMat"
   ]
  },
  {
   "cell_type": "code",
   "execution_count": 4,
   "metadata": {},
   "outputs": [
    {
     "data": {
      "text/plain": [
       "[1.0, 1.0, -1.0, -1.0, 1.0]"
      ]
     },
     "execution_count": 4,
     "metadata": {},
     "output_type": "execute_result"
    }
   ],
   "source": [
    "classLabels"
   ]
  },
  {
   "cell_type": "code",
   "execution_count": 5,
   "metadata": {
    "collapsed": true
   },
   "outputs": [],
   "source": [
    "from numpy import *"
   ]
  },
  {
   "cell_type": "code",
   "execution_count": 6,
   "metadata": {},
   "outputs": [
    {
     "ename": "SyntaxError",
     "evalue": "invalid syntax (<ipython-input-6-5926550960e9>, line 1)",
     "output_type": "error",
     "traceback": [
      "\u001b[0;36m  File \u001b[0;32m\"<ipython-input-6-5926550960e9>\"\u001b[0;36m, line \u001b[0;32m1\u001b[0m\n\u001b[0;31m    D = mat.(ones((5,1)))\u001b[0m\n\u001b[0m            ^\u001b[0m\n\u001b[0;31mSyntaxError\u001b[0m\u001b[0;31m:\u001b[0m invalid syntax\n"
     ]
    }
   ],
   "source": [
    "D = mat.(ones((5,1)))"
   ]
  },
  {
   "cell_type": "code",
   "execution_count": 7,
   "metadata": {
    "collapsed": true
   },
   "outputs": [],
   "source": [
    "D = mat(ones((5,1)))"
   ]
  },
  {
   "cell_type": "code",
   "execution_count": 8,
   "metadata": {},
   "outputs": [
    {
     "data": {
      "text/plain": [
       "matrix([[ 1.],\n",
       "        [ 1.],\n",
       "        [ 1.],\n",
       "        [ 1.],\n",
       "        [ 1.]])"
      ]
     },
     "execution_count": 8,
     "metadata": {},
     "output_type": "execute_result"
    }
   ],
   "source": [
    "D"
   ]
  },
  {
   "cell_type": "code",
   "execution_count": 9,
   "metadata": {},
   "outputs": [
    {
     "name": "stdout",
     "output_type": "stream",
     "text": [
      "split: dim 0, thresh  0.90, thresh inequal: lt, the weighted error is 2.000\n",
      "split: dim 0, thresh  0.90, thresh inequal: gt, the weighted error is 3.000\n",
      "split: dim 0, thresh  1.00, thresh inequal: lt, the weighted error is 2.000\n",
      "split: dim 0, thresh  1.00, thresh inequal: gt, the weighted error is 3.000\n",
      "split: dim 0, thresh  1.10, thresh inequal: lt, the weighted error is 2.000\n",
      "split: dim 0, thresh  1.10, thresh inequal: gt, the weighted error is 3.000\n",
      "split: dim 0, thresh  1.20, thresh inequal: lt, the weighted error is 2.000\n",
      "split: dim 0, thresh  1.20, thresh inequal: gt, the weighted error is 3.000\n",
      "split: dim 0, thresh  1.30, thresh inequal: lt, the weighted error is 1.000\n",
      "split: dim 0, thresh  1.30, thresh inequal: gt, the weighted error is 4.000\n",
      "split: dim 0, thresh  1.40, thresh inequal: lt, the weighted error is 1.000\n",
      "split: dim 0, thresh  1.40, thresh inequal: gt, the weighted error is 4.000\n",
      "split: dim 0, thresh  1.50, thresh inequal: lt, the weighted error is 1.000\n",
      "split: dim 0, thresh  1.50, thresh inequal: gt, the weighted error is 4.000\n",
      "split: dim 0, thresh  1.60, thresh inequal: lt, the weighted error is 1.000\n",
      "split: dim 0, thresh  1.60, thresh inequal: gt, the weighted error is 4.000\n",
      "split: dim 0, thresh  1.70, thresh inequal: lt, the weighted error is 1.000\n",
      "split: dim 0, thresh  1.70, thresh inequal: gt, the weighted error is 4.000\n",
      "split: dim 0, thresh  1.80, thresh inequal: lt, the weighted error is 1.000\n",
      "split: dim 0, thresh  1.80, thresh inequal: gt, the weighted error is 4.000\n",
      "split: dim 0, thresh  1.90, thresh inequal: lt, the weighted error is 1.000\n",
      "split: dim 0, thresh  1.90, thresh inequal: gt, the weighted error is 4.000\n",
      "split: dim 0, thresh  2.00, thresh inequal: lt, the weighted error is 3.000\n",
      "split: dim 0, thresh  2.00, thresh inequal: gt, the weighted error is 2.000\n",
      "split: dim 1, thresh  0.89, thresh inequal: lt, the weighted error is 2.000\n",
      "split: dim 1, thresh  0.89, thresh inequal: gt, the weighted error is 3.000\n",
      "split: dim 1, thresh  1.00, thresh inequal: lt, the weighted error is 1.000\n",
      "split: dim 1, thresh  1.00, thresh inequal: gt, the weighted error is 4.000\n",
      "split: dim 1, thresh  1.11, thresh inequal: lt, the weighted error is 2.000\n",
      "split: dim 1, thresh  1.11, thresh inequal: gt, the weighted error is 3.000\n",
      "split: dim 1, thresh  1.22, thresh inequal: lt, the weighted error is 2.000\n",
      "split: dim 1, thresh  1.22, thresh inequal: gt, the weighted error is 3.000\n",
      "split: dim 1, thresh  1.33, thresh inequal: lt, the weighted error is 2.000\n",
      "split: dim 1, thresh  1.33, thresh inequal: gt, the weighted error is 3.000\n",
      "split: dim 1, thresh  1.44, thresh inequal: lt, the weighted error is 2.000\n",
      "split: dim 1, thresh  1.44, thresh inequal: gt, the weighted error is 3.000\n",
      "split: dim 1, thresh  1.55, thresh inequal: lt, the weighted error is 2.000\n",
      "split: dim 1, thresh  1.55, thresh inequal: gt, the weighted error is 3.000\n",
      "split: dim 1, thresh  1.66, thresh inequal: lt, the weighted error is 2.000\n",
      "split: dim 1, thresh  1.66, thresh inequal: gt, the weighted error is 3.000\n",
      "split: dim 1, thresh  1.77, thresh inequal: lt, the weighted error is 2.000\n",
      "split: dim 1, thresh  1.77, thresh inequal: gt, the weighted error is 3.000\n",
      "split: dim 1, thresh  1.88, thresh inequal: lt, the weighted error is 2.000\n",
      "split: dim 1, thresh  1.88, thresh inequal: gt, the weighted error is 3.000\n",
      "split: dim 1, thresh  1.99, thresh inequal: lt, the weighted error is 2.000\n",
      "split: dim 1, thresh  1.99, thresh inequal: gt, the weighted error is 3.000\n",
      "split: dim 1, thresh  2.10, thresh inequal: lt, the weighted error is 3.000\n",
      "split: dim 1, thresh  2.10, thresh inequal: gt, the weighted error is 2.000\n"
     ]
    },
    {
     "data": {
      "text/plain": [
       "({'dim': 0, 'ineq': 'lt', 'thresh': 1.3}, matrix([[ 1.]]), array([[-1.],\n",
       "        [ 1.],\n",
       "        [-1.],\n",
       "        [-1.],\n",
       "        [ 1.]]))"
      ]
     },
     "execution_count": 9,
     "metadata": {},
     "output_type": "execute_result"
    }
   ],
   "source": [
    "adaboost.buildStump(dataMat,classLabels,D)"
   ]
  },
  {
   "cell_type": "code",
   "execution_count": 10,
   "metadata": {},
   "outputs": [
    {
     "name": "stdout",
     "output_type": "stream",
     "text": [
      "split: dim 0, thresh  0.90, thresh inequal: lt, the weighted error is 0.400\n",
      "split: dim 0, thresh  0.90, thresh inequal: gt, the weighted error is 0.600\n",
      "split: dim 0, thresh  1.00, thresh inequal: lt, the weighted error is 0.400\n",
      "split: dim 0, thresh  1.00, thresh inequal: gt, the weighted error is 0.600\n",
      "split: dim 0, thresh  1.10, thresh inequal: lt, the weighted error is 0.400\n",
      "split: dim 0, thresh  1.10, thresh inequal: gt, the weighted error is 0.600\n",
      "split: dim 0, thresh  1.20, thresh inequal: lt, the weighted error is 0.400\n",
      "split: dim 0, thresh  1.20, thresh inequal: gt, the weighted error is 0.600\n",
      "split: dim 0, thresh  1.30, thresh inequal: lt, the weighted error is 0.200\n",
      "split: dim 0, thresh  1.30, thresh inequal: gt, the weighted error is 0.800\n",
      "split: dim 0, thresh  1.40, thresh inequal: lt, the weighted error is 0.200\n",
      "split: dim 0, thresh  1.40, thresh inequal: gt, the weighted error is 0.800\n",
      "split: dim 0, thresh  1.50, thresh inequal: lt, the weighted error is 0.200\n",
      "split: dim 0, thresh  1.50, thresh inequal: gt, the weighted error is 0.800\n",
      "split: dim 0, thresh  1.60, thresh inequal: lt, the weighted error is 0.200\n",
      "split: dim 0, thresh  1.60, thresh inequal: gt, the weighted error is 0.800\n",
      "split: dim 0, thresh  1.70, thresh inequal: lt, the weighted error is 0.200\n",
      "split: dim 0, thresh  1.70, thresh inequal: gt, the weighted error is 0.800\n",
      "split: dim 0, thresh  1.80, thresh inequal: lt, the weighted error is 0.200\n",
      "split: dim 0, thresh  1.80, thresh inequal: gt, the weighted error is 0.800\n",
      "split: dim 0, thresh  1.90, thresh inequal: lt, the weighted error is 0.200\n",
      "split: dim 0, thresh  1.90, thresh inequal: gt, the weighted error is 0.800\n",
      "split: dim 0, thresh  2.00, thresh inequal: lt, the weighted error is 0.600\n",
      "split: dim 0, thresh  2.00, thresh inequal: gt, the weighted error is 0.400\n",
      "split: dim 1, thresh  0.89, thresh inequal: lt, the weighted error is 0.400\n",
      "split: dim 1, thresh  0.89, thresh inequal: gt, the weighted error is 0.600\n",
      "split: dim 1, thresh  1.00, thresh inequal: lt, the weighted error is 0.200\n",
      "split: dim 1, thresh  1.00, thresh inequal: gt, the weighted error is 0.800\n",
      "split: dim 1, thresh  1.11, thresh inequal: lt, the weighted error is 0.400\n",
      "split: dim 1, thresh  1.11, thresh inequal: gt, the weighted error is 0.600\n",
      "split: dim 1, thresh  1.22, thresh inequal: lt, the weighted error is 0.400\n",
      "split: dim 1, thresh  1.22, thresh inequal: gt, the weighted error is 0.600\n",
      "split: dim 1, thresh  1.33, thresh inequal: lt, the weighted error is 0.400\n",
      "split: dim 1, thresh  1.33, thresh inequal: gt, the weighted error is 0.600\n",
      "split: dim 1, thresh  1.44, thresh inequal: lt, the weighted error is 0.400\n",
      "split: dim 1, thresh  1.44, thresh inequal: gt, the weighted error is 0.600\n",
      "split: dim 1, thresh  1.55, thresh inequal: lt, the weighted error is 0.400\n",
      "split: dim 1, thresh  1.55, thresh inequal: gt, the weighted error is 0.600\n",
      "split: dim 1, thresh  1.66, thresh inequal: lt, the weighted error is 0.400\n",
      "split: dim 1, thresh  1.66, thresh inequal: gt, the weighted error is 0.600\n",
      "split: dim 1, thresh  1.77, thresh inequal: lt, the weighted error is 0.400\n",
      "split: dim 1, thresh  1.77, thresh inequal: gt, the weighted error is 0.600\n",
      "split: dim 1, thresh  1.88, thresh inequal: lt, the weighted error is 0.400\n",
      "split: dim 1, thresh  1.88, thresh inequal: gt, the weighted error is 0.600\n",
      "split: dim 1, thresh  1.99, thresh inequal: lt, the weighted error is 0.400\n",
      "split: dim 1, thresh  1.99, thresh inequal: gt, the weighted error is 0.600\n",
      "split: dim 1, thresh  2.10, thresh inequal: lt, the weighted error is 0.600\n",
      "split: dim 1, thresh  2.10, thresh inequal: gt, the weighted error is 0.400\n",
      "D:  [[ 0.2  0.2  0.2  0.2  0.2]]\n",
      "classEst:  [[-1.  1. -1. -1.  1.]]\n",
      "aggClassEst:  [[-0.69314718  0.69314718 -0.69314718 -0.69314718  0.69314718]]\n",
      "total error:  0.2 \n",
      "\n",
      "split: dim 0, thresh  0.90, thresh inequal: lt, the weighted error is 0.250\n",
      "split: dim 0, thresh  0.90, thresh inequal: gt, the weighted error is 0.750\n",
      "split: dim 0, thresh  1.00, thresh inequal: lt, the weighted error is 0.625\n",
      "split: dim 0, thresh  1.00, thresh inequal: gt, the weighted error is 0.375\n",
      "split: dim 0, thresh  1.10, thresh inequal: lt, the weighted error is 0.625\n",
      "split: dim 0, thresh  1.10, thresh inequal: gt, the weighted error is 0.375\n",
      "split: dim 0, thresh  1.20, thresh inequal: lt, the weighted error is 0.625\n",
      "split: dim 0, thresh  1.20, thresh inequal: gt, the weighted error is 0.375\n",
      "split: dim 0, thresh  1.30, thresh inequal: lt, the weighted error is 0.500\n",
      "split: dim 0, thresh  1.30, thresh inequal: gt, the weighted error is 0.500\n",
      "split: dim 0, thresh  1.40, thresh inequal: lt, the weighted error is 0.500\n",
      "split: dim 0, thresh  1.40, thresh inequal: gt, the weighted error is 0.500\n",
      "split: dim 0, thresh  1.50, thresh inequal: lt, the weighted error is 0.500\n",
      "split: dim 0, thresh  1.50, thresh inequal: gt, the weighted error is 0.500\n",
      "split: dim 0, thresh  1.60, thresh inequal: lt, the weighted error is 0.500\n",
      "split: dim 0, thresh  1.60, thresh inequal: gt, the weighted error is 0.500\n",
      "split: dim 0, thresh  1.70, thresh inequal: lt, the weighted error is 0.500\n",
      "split: dim 0, thresh  1.70, thresh inequal: gt, the weighted error is 0.500\n",
      "split: dim 0, thresh  1.80, thresh inequal: lt, the weighted error is 0.500\n",
      "split: dim 0, thresh  1.80, thresh inequal: gt, the weighted error is 0.500\n",
      "split: dim 0, thresh  1.90, thresh inequal: lt, the weighted error is 0.500\n",
      "split: dim 0, thresh  1.90, thresh inequal: gt, the weighted error is 0.500\n",
      "split: dim 0, thresh  2.00, thresh inequal: lt, the weighted error is 0.750\n",
      "split: dim 0, thresh  2.00, thresh inequal: gt, the weighted error is 0.250\n",
      "split: dim 1, thresh  0.89, thresh inequal: lt, the weighted error is 0.250\n",
      "split: dim 1, thresh  0.89, thresh inequal: gt, the weighted error is 0.750\n",
      "split: dim 1, thresh  1.00, thresh inequal: lt, the weighted error is 0.125\n",
      "split: dim 1, thresh  1.00, thresh inequal: gt, the weighted error is 0.875\n",
      "split: dim 1, thresh  1.11, thresh inequal: lt, the weighted error is 0.250\n",
      "split: dim 1, thresh  1.11, thresh inequal: gt, the weighted error is 0.750\n",
      "split: dim 1, thresh  1.22, thresh inequal: lt, the weighted error is 0.250\n",
      "split: dim 1, thresh  1.22, thresh inequal: gt, the weighted error is 0.750\n",
      "split: dim 1, thresh  1.33, thresh inequal: lt, the weighted error is 0.250\n",
      "split: dim 1, thresh  1.33, thresh inequal: gt, the weighted error is 0.750\n",
      "split: dim 1, thresh  1.44, thresh inequal: lt, the weighted error is 0.250\n",
      "split: dim 1, thresh  1.44, thresh inequal: gt, the weighted error is 0.750\n",
      "split: dim 1, thresh  1.55, thresh inequal: lt, the weighted error is 0.250\n",
      "split: dim 1, thresh  1.55, thresh inequal: gt, the weighted error is 0.750\n",
      "split: dim 1, thresh  1.66, thresh inequal: lt, the weighted error is 0.250\n",
      "split: dim 1, thresh  1.66, thresh inequal: gt, the weighted error is 0.750\n",
      "split: dim 1, thresh  1.77, thresh inequal: lt, the weighted error is 0.250\n",
      "split: dim 1, thresh  1.77, thresh inequal: gt, the weighted error is 0.750\n",
      "split: dim 1, thresh  1.88, thresh inequal: lt, the weighted error is 0.250\n",
      "split: dim 1, thresh  1.88, thresh inequal: gt, the weighted error is 0.750\n",
      "split: dim 1, thresh  1.99, thresh inequal: lt, the weighted error is 0.250\n",
      "split: dim 1, thresh  1.99, thresh inequal: gt, the weighted error is 0.750\n",
      "split: dim 1, thresh  2.10, thresh inequal: lt, the weighted error is 0.750\n",
      "split: dim 1, thresh  2.10, thresh inequal: gt, the weighted error is 0.250\n",
      "D:  [[ 0.5    0.125  0.125  0.125  0.125]]\n",
      "classEst:  [[ 1.  1. -1. -1. -1.]]\n",
      "aggClassEst:  [[ 0.27980789  1.66610226 -1.66610226 -1.66610226 -0.27980789]]\n",
      "total error:  0.2 \n",
      "\n",
      "split: dim 0, thresh  0.90, thresh inequal: lt, the weighted error is 0.143\n",
      "split: dim 0, thresh  0.90, thresh inequal: gt, the weighted error is 0.857\n",
      "split: dim 0, thresh  1.00, thresh inequal: lt, the weighted error is 0.357\n",
      "split: dim 0, thresh  1.00, thresh inequal: gt, the weighted error is 0.643\n",
      "split: dim 0, thresh  1.10, thresh inequal: lt, the weighted error is 0.357\n",
      "split: dim 0, thresh  1.10, thresh inequal: gt, the weighted error is 0.643\n",
      "split: dim 0, thresh  1.20, thresh inequal: lt, the weighted error is 0.357\n",
      "split: dim 0, thresh  1.20, thresh inequal: gt, the weighted error is 0.643\n",
      "split: dim 0, thresh  1.30, thresh inequal: lt, the weighted error is 0.286\n",
      "split: dim 0, thresh  1.30, thresh inequal: gt, the weighted error is 0.714\n",
      "split: dim 0, thresh  1.40, thresh inequal: lt, the weighted error is 0.286\n",
      "split: dim 0, thresh  1.40, thresh inequal: gt, the weighted error is 0.714\n",
      "split: dim 0, thresh  1.50, thresh inequal: lt, the weighted error is 0.286\n",
      "split: dim 0, thresh  1.50, thresh inequal: gt, the weighted error is 0.714\n",
      "split: dim 0, thresh  1.60, thresh inequal: lt, the weighted error is 0.286\n",
      "split: dim 0, thresh  1.60, thresh inequal: gt, the weighted error is 0.714\n",
      "split: dim 0, thresh  1.70, thresh inequal: lt, the weighted error is 0.286\n",
      "split: dim 0, thresh  1.70, thresh inequal: gt, the weighted error is 0.714\n",
      "split: dim 0, thresh  1.80, thresh inequal: lt, the weighted error is 0.286\n",
      "split: dim 0, thresh  1.80, thresh inequal: gt, the weighted error is 0.714\n",
      "split: dim 0, thresh  1.90, thresh inequal: lt, the weighted error is 0.286\n",
      "split: dim 0, thresh  1.90, thresh inequal: gt, the weighted error is 0.714\n",
      "split: dim 0, thresh  2.00, thresh inequal: lt, the weighted error is 0.857\n",
      "split: dim 0, thresh  2.00, thresh inequal: gt, the weighted error is 0.143\n",
      "split: dim 1, thresh  0.89, thresh inequal: lt, the weighted error is 0.143\n",
      "split: dim 1, thresh  0.89, thresh inequal: gt, the weighted error is 0.857\n",
      "split: dim 1, thresh  1.00, thresh inequal: lt, the weighted error is 0.500\n",
      "split: dim 1, thresh  1.00, thresh inequal: gt, the weighted error is 0.500\n",
      "split: dim 1, thresh  1.11, thresh inequal: lt, the weighted error is 0.571\n",
      "split: dim 1, thresh  1.11, thresh inequal: gt, the weighted error is 0.429\n",
      "split: dim 1, thresh  1.22, thresh inequal: lt, the weighted error is 0.571\n",
      "split: dim 1, thresh  1.22, thresh inequal: gt, the weighted error is 0.429\n",
      "split: dim 1, thresh  1.33, thresh inequal: lt, the weighted error is 0.571\n",
      "split: dim 1, thresh  1.33, thresh inequal: gt, the weighted error is 0.429\n",
      "split: dim 1, thresh  1.44, thresh inequal: lt, the weighted error is 0.571\n",
      "split: dim 1, thresh  1.44, thresh inequal: gt, the weighted error is 0.429\n",
      "split: dim 1, thresh  1.55, thresh inequal: lt, the weighted error is 0.571\n",
      "split: dim 1, thresh  1.55, thresh inequal: gt, the weighted error is 0.429\n",
      "split: dim 1, thresh  1.66, thresh inequal: lt, the weighted error is 0.571\n",
      "split: dim 1, thresh  1.66, thresh inequal: gt, the weighted error is 0.429\n",
      "split: dim 1, thresh  1.77, thresh inequal: lt, the weighted error is 0.571\n",
      "split: dim 1, thresh  1.77, thresh inequal: gt, the weighted error is 0.429\n",
      "split: dim 1, thresh  1.88, thresh inequal: lt, the weighted error is 0.571\n",
      "split: dim 1, thresh  1.88, thresh inequal: gt, the weighted error is 0.429\n",
      "split: dim 1, thresh  1.99, thresh inequal: lt, the weighted error is 0.571\n",
      "split: dim 1, thresh  1.99, thresh inequal: gt, the weighted error is 0.429\n",
      "split: dim 1, thresh  2.10, thresh inequal: lt, the weighted error is 0.857\n",
      "split: dim 1, thresh  2.10, thresh inequal: gt, the weighted error is 0.143\n",
      "D:  [[ 0.28571429  0.07142857  0.07142857  0.07142857  0.5       ]]\n",
      "classEst:  [[ 1.  1.  1.  1.  1.]]\n",
      "aggClassEst:  [[ 1.17568763  2.56198199 -0.77022252 -0.77022252  0.61607184]]\n",
      "total error:  0.0 \n",
      "\n"
     ]
    }
   ],
   "source": [
    "classifierArray = adaboost.adaBoostTrainDS(dataMat,classLabels,9)"
   ]
  },
  {
   "cell_type": "code",
   "execution_count": 11,
   "metadata": {},
   "outputs": [
    {
     "data": {
      "text/plain": [
       "[{'alpha': 0.6931471805599453, 'dim': 0, 'ineq': 'lt', 'thresh': 1.3},\n",
       " {'alpha': 0.9729550745276565, 'dim': 1, 'ineq': 'lt', 'thresh': 1.0},\n",
       " {'alpha': 0.8958797346140273,\n",
       "  'dim': 0,\n",
       "  'ineq': 'lt',\n",
       "  'thresh': 0.90000000000000002}]"
      ]
     },
     "execution_count": 11,
     "metadata": {},
     "output_type": "execute_result"
    }
   ],
   "source": [
    "classifierArray\n"
   ]
  },
  {
   "cell_type": "code",
   "execution_count": 12,
   "metadata": {},
   "outputs": [
    {
     "name": "stdout",
     "output_type": "stream",
     "text": [
      "[[-0.69314718]]\n",
      "[[-1.66610226]]\n",
      "[[-2.56198199]]\n"
     ]
    },
    {
     "data": {
      "text/plain": [
       "matrix([[-1.]])"
      ]
     },
     "execution_count": 12,
     "metadata": {},
     "output_type": "execute_result"
    }
   ],
   "source": [
    "adaboost.adaClassify([0,0],classifierArray)"
   ]
  },
  {
   "cell_type": "code",
   "execution_count": 13,
   "metadata": {},
   "outputs": [
    {
     "name": "stdout",
     "output_type": "stream",
     "text": [
      "[[ 0.69314718]\n",
      " [-0.69314718]]\n",
      "[[ 1.66610226]\n",
      " [-1.66610226]]\n",
      "[[ 2.56198199]\n",
      " [-2.56198199]]\n"
     ]
    },
    {
     "data": {
      "text/plain": [
       "matrix([[ 1.],\n",
       "        [-1.]])"
      ]
     },
     "execution_count": 13,
     "metadata": {},
     "output_type": "execute_result"
    }
   ],
   "source": [
    "adaboost.adaClassify([[5,5],[0,0]],classifierArray)"
   ]
  },
  {
   "cell_type": "code",
   "execution_count": null,
   "metadata": {
    "collapsed": true
   },
   "outputs": [],
   "source": []
  }
 ],
 "metadata": {
  "kernelspec": {
   "display_name": "Python 3",
   "language": "python",
   "name": "python3"
  },
  "language_info": {
   "codemirror_mode": {
    "name": "ipython",
    "version": 3
   },
   "file_extension": ".py",
   "mimetype": "text/x-python",
   "name": "python",
   "nbconvert_exporter": "python",
   "pygments_lexer": "ipython3",
   "version": "3.6.2"
  }
 },
 "nbformat": 4,
 "nbformat_minor": 2
}
